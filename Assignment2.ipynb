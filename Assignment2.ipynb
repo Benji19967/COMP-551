{
 "cells": [
  {
   "cell_type": "markdown",
   "metadata": {},
   "source": [
    "### This is a *brief* summary of what the assignment consisted of:\n",
    "\n",
    "#### Question 1: Generate synthetic data sets, 2 classed with 20 features each, classes share Covariance matrix\n",
    "#### Question 2: Estimate parameters of the GDA model using maximul likelihood\n",
    "#### Question 3: Use k-NN to learn a classifier\n",
    "#### Question 4: Generate synthetic data sets, each class now a mixture of 3 Gaussians\n",
    "#### Question 5: Same as Q2 and Q3 with new data set"
   ]
  },
  {
   "cell_type": "code",
   "execution_count": 1,
   "metadata": {},
   "outputs": [],
   "source": [
    "import math\n",
    "import numpy as np\n",
    "from numpy.linalg import inv\n",
    "from numpy.linalg import norm\n",
    "import matplotlib.pyplot as plt\n",
    "import random\n",
    "from sklearn.model_selection import train_test_split\n",
    "import operator"
   ]
  },
  {
   "cell_type": "code",
   "execution_count": 2,
   "metadata": {},
   "outputs": [],
   "source": [
    "class Data:\n",
    "    \n",
    "    def __init__(self):\n",
    "        self.m0 = []\n",
    "        self.m1 = []\n",
    "        self.m2 = []\n",
    "        self.c1m1 = []\n",
    "        self.c1m2 = []\n",
    "        self.c1m3 = []\n",
    "        self.c2m1 = []\n",
    "        self.c2m2 = []\n",
    "        self.c2m3 = []\n",
    "        self.cov1 = []\n",
    "        self.cov2 = []\n",
    "        self.cov3 = []\n",
    "        \n",
    "    def get_m(self, filename):\n",
    "        f = open(filename)\n",
    "        line = f.readline().split(\",\")\n",
    "        line = line[:20]\n",
    "        m = []\n",
    "        for x in line:\n",
    "            m.append(float(x))\n",
    "        return m\n",
    "    \n",
    "    def get_cov(self, filename):\n",
    "        f = open(filename)\n",
    "        lines = []\n",
    "        for line in f.readlines():\n",
    "            line = line.strip().split(\",\")\n",
    "            line = line[:20]\n",
    "            for idx, x in enumerate(line):\n",
    "                line[idx] = float(x)\n",
    "            lines.append(line)\n",
    "        lines = np.array(lines)\n",
    "        return lines"
   ]
  },
  {
   "cell_type": "code",
   "execution_count": 3,
   "metadata": {},
   "outputs": [],
   "source": [
    "ds1 = Data()\n",
    "ds2 = Data()\n",
    "ds1.m0 = ds1.get_m('Datasets/DS1_m_0.txt')\n",
    "ds1.m1 = ds1.get_m('Datasets/DS1_m_1.txt')\n",
    "ds2.c0m1 = ds2.get_m('Datasets/DS2_c1_m1.txt')\n",
    "ds2.c0m2 = ds2.get_m('Datasets/DS2_c1_m2.txt')\n",
    "ds2.c0m3 = ds2.get_m('Datasets/DS2_c1_m3.txt')\n",
    "ds2.c1m1 = ds2.get_m('Datasets/DS2_c2_m1.txt')\n",
    "ds2.c1m2 = ds2.get_m('Datasets/DS2_c2_m2.txt')\n",
    "ds2.c1m3 = ds2.get_m('Datasets/DS2_c2_m3.txt')\n",
    "ds1.cov = ds1.get_cov('Datasets/DS1_Cov.txt')\n",
    "ds2.cov1 = ds2.get_cov('Datasets/DS2_Cov1.txt')\n",
    "ds2.cov2 = ds2.get_cov('Datasets/DS2_Cov2.txt')\n",
    "ds2.cov3 = ds2.get_cov('Datasets/DS2_Cov3.txt')"
   ]
  },
  {
   "cell_type": "markdown",
   "metadata": {},
   "source": [
    "## Q1/Q4:"
   ]
  },
  {
   "cell_type": "code",
   "execution_count": 4,
   "metadata": {},
   "outputs": [],
   "source": [
    "def DS(c):\n",
    "    np.random.seed(0)\n",
    "    if(c == 1):\n",
    "        neg_m = np.random.multivariate_normal(ds1.m0, ds1.cov, 2000)\n",
    "        neg = np.zeros((2000,21))\n",
    "        neg[:,:-1] = neg_m\n",
    "        pos_m = np.random.multivariate_normal(ds1.m1, ds1.cov, 2000)\n",
    "        pos = np.ones((2000,21))\n",
    "        pos[:,:-1] = pos_m\n",
    "        return neg, pos\n",
    "    if(c == 2):\n",
    "        neg_m = []\n",
    "        for i in range(2000):\n",
    "            distr = np.random.choice([0,1,2], p=(0.1,0.42,0.48))\n",
    "            if(distr == 0):\n",
    "                neg_m.append(np.random.multivariate_normal(ds2.c0m1, ds2.cov1))\n",
    "            if(distr == 1):\n",
    "                neg_m.append(np.random.multivariate_normal(ds2.c0m2, ds2.cov2))\n",
    "            if(distr == 2):\n",
    "                neg_m.append(np.random.multivariate_normal(ds2.c0m3, ds2.cov3))\n",
    "        neg = np.zeros((2000,21))\n",
    "        neg[:,:-1] = neg_m\n",
    "        pos_m = []\n",
    "        for i in range(2000):\n",
    "            distr = np.random.choice([0,1,2], p=(0.1,0.42,0.48))\n",
    "            if(distr == 0):\n",
    "                pos_m.append(np.random.multivariate_normal(ds2.c1m1, ds2.cov1))\n",
    "            if(distr == 1):\n",
    "                pos_m.append(np.random.multivariate_normal(ds2.c1m2, ds2.cov2))\n",
    "            if(distr == 2):\n",
    "                pos_m.append(np.random.multivariate_normal(ds2.c1m3, ds2.cov3))\n",
    "        pos = np.ones((2000,21))\n",
    "        pos[:,:-1] = pos_m\n",
    "        return neg, pos"
   ]
  },
  {
   "cell_type": "markdown",
   "metadata": {},
   "source": [
    "## Adjust first line of code below and re-run cells afterwards: \n",
    "## Q2/Q3: DS(1)  \n",
    "## Q5: DS(2)"
   ]
  },
  {
   "cell_type": "code",
   "execution_count": 18,
   "metadata": {},
   "outputs": [],
   "source": [
    "neg, pos = DS(2) # choose 1 for Q2 and Q3, choose 2 for Q5\n",
    "pos_train, pos_test, neg_train, neg_test = train_test_split(pos, neg, test_size=0.2, random_state=1)\n",
    "pos_train, pos_val, neg_train, neg_val = train_test_split(pos_train, neg_train, test_size=0.25, random_state=1)\n",
    "train = np.append(pos_train, neg_train, axis=0)\n",
    "np.random.shuffle(train)\n",
    "val = np.append(pos_val, neg_val, axis=0)\n",
    "np.random.shuffle(val)\n",
    "test = np.append(pos_test, neg_test, axis=0)\n",
    "np.random.shuffle(test)\n",
    "#np.savetxt(\"train2.csv\", train, delimiter=',', fmt='%1.3f')\n",
    "#np.savetxt(\"validation2.csv\", val, delimiter=',', fmt='%1.3f')\n",
    "#np.savetxt(\"test2.csv\", test, delimiter=',', fmt='%1.3f')"
   ]
  },
  {
   "cell_type": "code",
   "execution_count": 19,
   "metadata": {},
   "outputs": [],
   "source": [
    "m0 = np.zeros(20)\n",
    "m1 = np.zeros(20)\n",
    "ct0 = 0\n",
    "ct1 = 0\n",
    "for x in train:\n",
    "    if(int(x[20]) == 0):\n",
    "        m0 = np.add(m0, x[0:20])\n",
    "        ct0 += 1\n",
    "    elif(int(x[20]) == 1):\n",
    "        m1 = np.add(m1, x[0:20]) \n",
    "        ct1 += 1\n",
    "m0 /= ct0\n",
    "m1 /= ct1"
   ]
  },
  {
   "cell_type": "code",
   "execution_count": 20,
   "metadata": {},
   "outputs": [],
   "source": [
    "s0 = np.zeros((20,20))\n",
    "s1 = np.zeros((20,20))\n",
    "ct0 = 0\n",
    "ct1 = 0\n",
    "for x in train:\n",
    "    if(int(x[20]) == 0):\n",
    "        s0 = np.add(s0, np.outer(np.subtract(x[0:20], m0), np.subtract(x[0:20], m0)))\n",
    "        ct0 += 1\n",
    "    elif(int(x[20]) == 1):\n",
    "        s1 = np.add(s1, np.outer(np.subtract(x[0:20], m1), np.subtract(x[0:20], m1)))\n",
    "        ct1 += 1\n",
    "s0 /= ct0\n",
    "s1 /= ct1\n",
    "s = ct0/len(train)*s0 + ct1/len(train)*s1"
   ]
  },
  {
   "cell_type": "code",
   "execution_count": 21,
   "metadata": {},
   "outputs": [
    {
     "name": "stdout",
     "output_type": "stream",
     "text": [
      "[ 0.01042424 -0.01689383  0.10482438 -0.067629   -0.09361109  0.02332355\n",
      " -0.02329479  0.07333374 -0.01225595 -0.05225086 -0.08276808 -0.03543034\n",
      "  0.00705043 -0.02072892  0.07734468  0.10205874  0.01008776 -0.04366477\n",
      "  0.00151375 -0.03768648] 0.087027177878134\n"
     ]
    }
   ],
   "source": [
    "w = np.matmul(inv(s), np.subtract(m0, m1))\n",
    "w0 = -0.5*np.matmul(np.transpose(m0), np.matmul(inv(s), m0)) + 0.5*np.matmul(np.transpose(m1), np.matmul(inv(s), m1))\n",
    "print(w, w0)"
   ]
  },
  {
   "cell_type": "code",
   "execution_count": 22,
   "metadata": {},
   "outputs": [],
   "source": [
    "def sigmoid(x):\n",
    "    return 1 / (1 + math.exp(-x))"
   ]
  },
  {
   "cell_type": "code",
   "execution_count": 23,
   "metadata": {},
   "outputs": [
    {
     "name": "stdout",
     "output_type": "stream",
     "text": [
      "Accuracy:  0.50125\n",
      "Precision: 0.5012468827930174\n",
      "Recall: 0.5025\n",
      "F-measure: 0.50187265917603\n"
     ]
    }
   ],
   "source": [
    "y = 0.\n",
    "correct = 0\n",
    "conf = np.zeros((2,2))\n",
    "for x in test:\n",
    "    y = 1 - np.round(sigmoid(np.inner(np.transpose(w), x[0:20]) + w0))\n",
    "    if(y == x[20]):\n",
    "        correct += 1\n",
    "    if(y == 0 and x[20] == 0):\n",
    "        conf[1][1] += 1\n",
    "    if(y == 1 and x[20] == 1):\n",
    "        conf[0][0] += 1\n",
    "    if(y == 0 and x[20] == 1):\n",
    "        conf[1][0] += 1\n",
    "    if(y == 1 and x[20] == 0):\n",
    "        conf[0][1] += 1\n",
    "accuracy = correct / len(test)\n",
    "precision = conf[0][0]/(conf[0][0] + conf[0][1])\n",
    "recall = conf[0][0]/(conf[0][0] + conf[1][0])\n",
    "        \n",
    "print(\"Accuracy: \", accuracy)\n",
    "print(\"Precision:\", precision)\n",
    "print(\"Recall:\", recall)\n",
    "print(\"F-measure:\", 2*precision*recall / (precision+recall))"
   ]
  },
  {
   "cell_type": "code",
   "execution_count": 24,
   "metadata": {},
   "outputs": [],
   "source": [
    "def classify(train, testInst, k):\n",
    "    count0 = 0\n",
    "    distances = []\n",
    "    for x in range(len(train)):\n",
    "        dist = norm(train[x]-testInst)\n",
    "        if(dist != 0.0):\n",
    "            distances.append((train[x], dist))\n",
    "    distances.sort(key=operator.itemgetter(1))\n",
    "    neighbors = []\n",
    "    for x in range(k):\n",
    "        if(distances[x][0][20] == 0.0):\n",
    "            count0 += 1\n",
    "        neighbors.append(distances[x][0])\n",
    "    return np.round(1-count0/k)"
   ]
  },
  {
   "cell_type": "code",
   "execution_count": 25,
   "metadata": {},
   "outputs": [],
   "source": [
    "def get_F(k, pr):\n",
    "    correct = 0\n",
    "    conf = np.zeros((2,2))\n",
    "    for x in train:\n",
    "        y = classify(train, x, k)\n",
    "        if(y == x[20]):\n",
    "            correct += 1\n",
    "        if(y == 0 and x[20] == 0):\n",
    "            conf[1][1] += 1\n",
    "        if(y == 1 and x[20] == 1):\n",
    "            conf[0][0] += 1\n",
    "        if(y == 0 and x[20] == 1):\n",
    "            conf[1][0] += 1\n",
    "        if(y == 1 and x[20] == 0):\n",
    "            conf[0][1] += 1\n",
    "    accuracy = correct / len(train)\n",
    "    precision = conf[0][0]/(conf[0][0] + conf[0][1])\n",
    "    recall = conf[0][0]/(conf[0][0] + conf[1][0])\n",
    "    f_measure = 2*precision*recall / (precision+recall)\n",
    "    print(\"k:\", k, \"F-measure:\", f_measure)\n",
    "    if(pr == 1):\n",
    "        print(\"Accuracy: \", accuracy)\n",
    "        print(\"Precision:\", precision)\n",
    "        print(\"Recall:\", recall)"
   ]
  },
  {
   "cell_type": "markdown",
   "metadata": {},
   "source": [
    "## The next few cells would take a while to run, hence the commenting."
   ]
  },
  {
   "cell_type": "code",
   "execution_count": 26,
   "metadata": {},
   "outputs": [],
   "source": [
    "#for k in range(1, 102, 10):\n",
    "#    get_F(k, 0)"
   ]
  },
  {
   "cell_type": "code",
   "execution_count": 27,
   "metadata": {},
   "outputs": [],
   "source": [
    "#for k in range(111, 132, 10):\n",
    "#   get_F(k, 0)"
   ]
  },
  {
   "cell_type": "code",
   "execution_count": 28,
   "metadata": {},
   "outputs": [],
   "source": [
    "#get_F(151, 0)"
   ]
  },
  {
   "cell_type": "code",
   "execution_count": 29,
   "metadata": {},
   "outputs": [],
   "source": [
    "# for k in range(51, 122, 10): # range(11, 82, 10) for DS(2)\n",
    "#     correct = 0\n",
    "#     conf = np.zeros((2,2))\n",
    "#     for x in val:\n",
    "#         y = classify(train, x, k)\n",
    "#         if(y == x[20]):\n",
    "#             correct += 1\n",
    "#         if(y == 0 and x[20] == 0):\n",
    "#             conf[1][1] += 1\n",
    "#         if(y == 1 and x[20] == 1):\n",
    "#             conf[0][0] += 1\n",
    "#         if(y == 0 and x[20] == 1):\n",
    "#             conf[1][0] += 1\n",
    "#         if(y == 1 and x[20] == 0):\n",
    "#             conf[0][1] += 1\n",
    "#     accuracy = correct / len(val)\n",
    "#     precision = conf[0][0]/(conf[0][0] + conf[0][1])\n",
    "#     recall = conf[0][0]/(conf[0][0] + conf[1][0])\n",
    "#     f_measure = 2*precision*recall / (precision+recall)\n",
    "#     print(\"k:\", k, \"F-measure:\", f_measure)\n",
    "#     print(\"Accuracy: \", accuracy)\n",
    "#     print(\"Precision:\", precision)\n",
    "#     print(\"Recall:\", recall) "
   ]
  },
  {
   "cell_type": "code",
   "execution_count": null,
   "metadata": {},
   "outputs": [],
   "source": [
    "k = 31  # k = 31 for DS(2)\n",
    "correct = 0\n",
    "conf = np.zeros((2,2))\n",
    "for x in test:\n",
    "    y = classify(train, x, k)\n",
    "    if(y == x[20]):\n",
    "        correct += 1\n",
    "    if(y == 0 and x[20] == 0):\n",
    "        conf[1][1] += 1\n",
    "    if(y == 1 and x[20] == 1):\n",
    "        conf[0][0] += 1\n",
    "    if(y == 0 and x[20] == 1):\n",
    "        conf[1][0] += 1\n",
    "    if(y == 1 and x[20] == 0):\n",
    "        conf[0][1] += 1\n",
    "accuracy = correct / len(test)\n",
    "precision = conf[0][0]/(conf[0][0] + conf[0][1])\n",
    "recall = conf[0][0]/(conf[0][0] + conf[1][0])\n",
    "f_measure = 2*precision*recall / (precision+recall)\n",
    "print(\"F-measure:\", f_measure)\n",
    "print(\"Accuracy: \", accuracy)\n",
    "print(\"Precision:\", precision)\n",
    "print(\"Recall:\", recall)"
   ]
  },
  {
   "cell_type": "code",
   "execution_count": null,
   "metadata": {},
   "outputs": [],
   "source": []
  }
 ],
 "metadata": {
  "kernelspec": {
   "display_name": "Python 3",
   "language": "python",
   "name": "python3"
  },
  "language_info": {
   "codemirror_mode": {
    "name": "ipython",
    "version": 3
   },
   "file_extension": ".py",
   "mimetype": "text/x-python",
   "name": "python",
   "nbconvert_exporter": "python",
   "pygments_lexer": "ipython3",
   "version": "3.6.5"
  }
 },
 "nbformat": 4,
 "nbformat_minor": 2
}
